{
 "cells": [
  {
   "cell_type": "code",
   "execution_count": 1,
   "outputs": [],
   "source": [
    "from analysis import Analysis"
   ],
   "metadata": {
    "collapsed": false,
    "pycharm": {
     "name": "#%%\n"
    }
   }
  },
  {
   "cell_type": "code",
   "execution_count": 2,
   "outputs": [],
   "source": [
    "database_filepath = \"/Users/carlossalasflores/Downloads/myAppleMusicDataHistory\"\n",
    "data_filepath = \"./data\""
   ],
   "metadata": {
    "collapsed": false,
    "pycharm": {
     "name": "#%%\n"
    }
   }
  },
  {
   "cell_type": "code",
   "execution_count": 3,
   "outputs": [
    {
     "name": "stderr",
     "output_type": "stream",
     "text": [
      "/Users/carlossalasflores/IdeaProjects/musicHistoryDashboard/data_tools.py:45: DtypeWarning: Columns (10) have mixed types. Specify dtype option on import or set low_memory=False.\n",
      "  df = pd.read_csv(f\"{self.apple_music_play_history_folder}/Apple Music - Play History Daily Tracks.csv\")\n",
      "/Users/carlossalasflores/IdeaProjects/musicHistoryDashboard/data_tools.py:185: FutureWarning: The default value of numeric_only in DataFrameGroupBy.sum is deprecated. In a future version, numeric_only will default to False. Either specify numeric_only or select only columns which should be valid for the function.\n",
      "  df_time_on_app = self.data.fillna(0).groupby('day').sum().reset_index()[[\"day\", \"Play Duration Milliseconds\"]].rename(columns={\"Play Duration Milliseconds\": \"Time on Apple Music\"})\n",
      "/Users/carlossalasflores/IdeaProjects/musicHistoryDashboard/data_tools.py:214: FutureWarning: The default value of numeric_only in DataFrameGroupBy.sum is deprecated. In a future version, numeric_only will default to False. Either specify numeric_only or select only columns which should be valid for the function.\n",
      "  temp_sum = df_tracks.groupby(unit).sum()[\"Play Duration (Minutes)\"]\n",
      "/Users/carlossalasflores/IdeaProjects/musicHistoryDashboard/data_tools.py:214: FutureWarning: The default value of numeric_only in DataFrameGroupBy.sum is deprecated. In a future version, numeric_only will default to False. Either specify numeric_only or select only columns which should be valid for the function.\n",
      "  temp_sum = df_tracks.groupby(unit).sum()[\"Play Duration (Minutes)\"]\n",
      "/Users/carlossalasflores/IdeaProjects/musicHistoryDashboard/data_tools.py:214: FutureWarning: The default value of numeric_only in DataFrameGroupBy.sum is deprecated. In a future version, numeric_only will default to False. Either specify numeric_only or select only columns which should be valid for the function.\n",
      "  temp_sum = df_tracks.groupby(unit).sum()[\"Play Duration (Minutes)\"]\n",
      "/Users/carlossalasflores/IdeaProjects/musicHistoryDashboard/data_tools.py:214: FutureWarning: The default value of numeric_only in DataFrameGroupBy.sum is deprecated. In a future version, numeric_only will default to False. Either specify numeric_only or select only columns which should be valid for the function.\n",
      "  temp_sum = df_tracks.groupby(unit).sum()[\"Play Duration (Minutes)\"]\n"
     ]
    }
   ],
   "source": [
    "data_analysis = Analysis(apple_music_play_history_folder=database_filepath, data_filepath=data_filepath)\n",
    "data_analysis.labeling()"
   ],
   "metadata": {
    "collapsed": false,
    "pycharm": {
     "name": "#%%\n"
    }
   }
  },
  {
   "cell_type": "code",
   "execution_count": 4,
   "outputs": [
    {
     "name": "stderr",
     "output_type": "stream",
     "text": [
      "/Users/carlossalasflores/IdeaProjects/musicHistoryDashboard/analysis_tools.py:13: FutureWarning: The default value of numeric_only in DataFrameGroupBy.sum is deprecated. In a future version, numeric_only will default to False. Either specify numeric_only or select only columns which should be valid for the function.\n",
      "  left = df.groupby(unit_criteria).sum().reset_index()[unit_criteria + [criteria]]\n",
      "/Users/carlossalasflores/IdeaProjects/musicHistoryDashboard/analysis_tools.py:20: FutureWarning: The default value of numeric_only in DataFrameGroupBy.sum is deprecated. In a future version, numeric_only will default to False. Either specify numeric_only or select only columns which should be valid for the function.\n",
      "  right = df.groupby([\"Artist\", \"Album\"]).sum().reset_index()[[\"Artist\", \"Album\", criteria]]\n",
      "/Users/carlossalasflores/IdeaProjects/musicHistoryDashboard/analysis_tools.py:13: FutureWarning: The default value of numeric_only in DataFrameGroupBy.sum is deprecated. In a future version, numeric_only will default to False. Either specify numeric_only or select only columns which should be valid for the function.\n",
      "  left = df.groupby(unit_criteria).sum().reset_index()[unit_criteria + [criteria]]\n",
      "/Users/carlossalasflores/IdeaProjects/musicHistoryDashboard/analysis_tools.py:16: FutureWarning: The default value of numeric_only in DataFrameGroupBy.sum is deprecated. In a future version, numeric_only will default to False. Either specify numeric_only or select only columns which should be valid for the function.\n",
      "  right = df.groupby(\"Artist\").sum().reset_index()[[\"Artist\", criteria]]\n"
     ]
    }
   ],
   "source": [
    "from analysis_tools import tracks_performance, get_performance\n",
    "df_track_per_album = tracks_performance(data_analysis.tracks_history, rel_to=\"Album\", min_unit=\"Track\")\n",
    "df_album_per_artist = tracks_performance(data_analysis.tracks_history, rel_to=\"Artist\", min_unit=\"Album\")"
   ],
   "metadata": {
    "collapsed": false,
    "pycharm": {
     "name": "#%%\n"
    }
   }
  },
  {
   "cell_type": "code",
   "execution_count": 8,
   "outputs": [
    {
     "data": {
      "text/plain": "   Artist                                              Album  \\\n58    BTS                                     2 COOL 4 SKOOL   \n59    BTS                                          DARK&WILD   \n60    BTS                           Love Yourself 結 'Answer'   \n61    BTS  MIC Drop (feat. Desiigner) [Steve Aoki Remix] ...   \n62    BTS                                          O!RUL8,2?   \n63    BTS                 Skool Luv Affair (Special Edition)   \n64    BTS   The Most Beautiful Moment in Life: Young Forever   \n65    BTS                                              Wings   \n66    BTS                               YOU NEVER WALK ALONE   \n\n    Track Play Duration  Artist Play Duration  Stickiness (%)  \n58           224.816389         246496.103889        0.000912  \n59         50902.816667         246496.103889        0.206506  \n60         55891.700556         246496.103889        0.226745  \n61         20582.179722         246496.103889        0.083499  \n62         21267.998889         246496.103889        0.086281  \n63         41749.002500         246496.103889        0.169370  \n64         25067.028889         246496.103889        0.101693  \n65           972.476944         246496.103889        0.003945  \n66         29838.083333         246496.103889        0.121049  ",
      "text/html": "<div>\n<style scoped>\n    .dataframe tbody tr th:only-of-type {\n        vertical-align: middle;\n    }\n\n    .dataframe tbody tr th {\n        vertical-align: top;\n    }\n\n    .dataframe thead th {\n        text-align: right;\n    }\n</style>\n<table border=\"1\" class=\"dataframe\">\n  <thead>\n    <tr style=\"text-align: right;\">\n      <th></th>\n      <th>Artist</th>\n      <th>Album</th>\n      <th>Track Play Duration</th>\n      <th>Artist Play Duration</th>\n      <th>Stickiness (%)</th>\n    </tr>\n  </thead>\n  <tbody>\n    <tr>\n      <th>58</th>\n      <td>BTS</td>\n      <td>2 COOL 4 SKOOL</td>\n      <td>224.816389</td>\n      <td>246496.103889</td>\n      <td>0.000912</td>\n    </tr>\n    <tr>\n      <th>59</th>\n      <td>BTS</td>\n      <td>DARK&amp;WILD</td>\n      <td>50902.816667</td>\n      <td>246496.103889</td>\n      <td>0.206506</td>\n    </tr>\n    <tr>\n      <th>60</th>\n      <td>BTS</td>\n      <td>Love Yourself 結 'Answer'</td>\n      <td>55891.700556</td>\n      <td>246496.103889</td>\n      <td>0.226745</td>\n    </tr>\n    <tr>\n      <th>61</th>\n      <td>BTS</td>\n      <td>MIC Drop (feat. Desiigner) [Steve Aoki Remix] ...</td>\n      <td>20582.179722</td>\n      <td>246496.103889</td>\n      <td>0.083499</td>\n    </tr>\n    <tr>\n      <th>62</th>\n      <td>BTS</td>\n      <td>O!RUL8,2?</td>\n      <td>21267.998889</td>\n      <td>246496.103889</td>\n      <td>0.086281</td>\n    </tr>\n    <tr>\n      <th>63</th>\n      <td>BTS</td>\n      <td>Skool Luv Affair (Special Edition)</td>\n      <td>41749.002500</td>\n      <td>246496.103889</td>\n      <td>0.169370</td>\n    </tr>\n    <tr>\n      <th>64</th>\n      <td>BTS</td>\n      <td>The Most Beautiful Moment in Life: Young Forever</td>\n      <td>25067.028889</td>\n      <td>246496.103889</td>\n      <td>0.101693</td>\n    </tr>\n    <tr>\n      <th>65</th>\n      <td>BTS</td>\n      <td>Wings</td>\n      <td>972.476944</td>\n      <td>246496.103889</td>\n      <td>0.003945</td>\n    </tr>\n    <tr>\n      <th>66</th>\n      <td>BTS</td>\n      <td>YOU NEVER WALK ALONE</td>\n      <td>29838.083333</td>\n      <td>246496.103889</td>\n      <td>0.121049</td>\n    </tr>\n  </tbody>\n</table>\n</div>"
     },
     "execution_count": 8,
     "metadata": {},
     "output_type": "execute_result"
    }
   ],
   "source": [
    "chosen_album = data_analysis.data_preprocessing.albums[\"Relevant\"][1]\n",
    "chosen_artist = data_analysis.data_preprocessing.artists[\"Relevant\"][1]\n",
    "get_performance(df=df_album_per_artist, group=\"Artist\", name=chosen_artist)"
   ],
   "metadata": {
    "collapsed": false,
    "pycharm": {
     "name": "#%%\n"
    }
   }
  },
  {
   "cell_type": "code",
   "execution_count": 17,
   "outputs": [
    {
     "name": "stderr",
     "output_type": "stream",
     "text": [
      "/var/folders/j8/lbnsc2qj41jgyy60v7nltymc0000gn/T/ipykernel_18853/544705576.py:2: SettingWithCopyWarning: \n",
      "A value is trying to be set on a copy of a slice from a DataFrame\n",
      "\n",
      "See the caveats in the documentation: https://pandas.pydata.org/pandas-docs/stable/user_guide/indexing.html#returning-a-view-versus-a-copy\n",
      "  album_1.rename(columns={\n"
     ]
    }
   ],
   "source": [
    "album_1 = get_performance(df=df_track_per_album, group=\"Album\", name=chosen_album)\n",
    "album_1.rename(columns={\n",
    "    \"Track Play Duration\":\"PlayDuration\",\n",
    "    \"Album Play Duration\": \"AlbumPlayDuration\",\n",
    "    \"Stickiness (%)\": \"Stickiness\"\n",
    "}, inplace=True)\n",
    "album_1.to_csv(\"data/Album_Track_1.csv\")"
   ],
   "metadata": {
    "collapsed": false,
    "pycharm": {
     "name": "#%%\n"
    }
   }
  },
  {
   "cell_type": "code",
   "execution_count": 16,
   "outputs": [
    {
     "data": {
      "text/plain": "     Artist Album                              Title  PlayDuration  \\\n2805   VAVA    21                    Back In My Zone  18365.957500   \n2806   VAVA    21  Ego (feat. Blow Fever & 劉柏辛Lexie)   5169.082778   \n2807   VAVA    21                Get It On The Floor  24305.731111   \n2808   VAVA    21                     Happy Everyday  37441.912778   \n2809   VAVA    21                  Life's a struggle  31138.022222   \n2810   VAVA    21                  On My Way (Outro)   7261.664444   \n2811   VAVA    21                           Rap Star  27843.409722   \n2812   VAVA    21      U Should Know My Name (Intro)  27051.623889   \n2813   VAVA    21              我的新衣 (feat. 王倩倩 & TY)  68332.343333   \n2814   VAVA    21                                 網紅    930.628056   \n2815   VAVA    21                  讓 (feat. Evis Wy)   5756.500833   \n\n      AlbumPlayDuration  Stickiness  \n2805      253596.876667    0.072422  \n2806      253596.876667    0.020383  \n2807      253596.876667    0.095844  \n2808      253596.876667    0.147643  \n2809      253596.876667    0.122786  \n2810      253596.876667    0.028635  \n2811      253596.876667    0.109794  \n2812      253596.876667    0.106672  \n2813      253596.876667    0.269453  \n2814      253596.876667    0.003670  \n2815      253596.876667    0.022699  ",
      "text/html": "<div>\n<style scoped>\n    .dataframe tbody tr th:only-of-type {\n        vertical-align: middle;\n    }\n\n    .dataframe tbody tr th {\n        vertical-align: top;\n    }\n\n    .dataframe thead th {\n        text-align: right;\n    }\n</style>\n<table border=\"1\" class=\"dataframe\">\n  <thead>\n    <tr style=\"text-align: right;\">\n      <th></th>\n      <th>Artist</th>\n      <th>Album</th>\n      <th>Title</th>\n      <th>PlayDuration</th>\n      <th>AlbumPlayDuration</th>\n      <th>Stickiness</th>\n    </tr>\n  </thead>\n  <tbody>\n    <tr>\n      <th>2805</th>\n      <td>VAVA</td>\n      <td>21</td>\n      <td>Back In My Zone</td>\n      <td>18365.957500</td>\n      <td>253596.876667</td>\n      <td>0.072422</td>\n    </tr>\n    <tr>\n      <th>2806</th>\n      <td>VAVA</td>\n      <td>21</td>\n      <td>Ego (feat. Blow Fever &amp; 劉柏辛Lexie)</td>\n      <td>5169.082778</td>\n      <td>253596.876667</td>\n      <td>0.020383</td>\n    </tr>\n    <tr>\n      <th>2807</th>\n      <td>VAVA</td>\n      <td>21</td>\n      <td>Get It On The Floor</td>\n      <td>24305.731111</td>\n      <td>253596.876667</td>\n      <td>0.095844</td>\n    </tr>\n    <tr>\n      <th>2808</th>\n      <td>VAVA</td>\n      <td>21</td>\n      <td>Happy Everyday</td>\n      <td>37441.912778</td>\n      <td>253596.876667</td>\n      <td>0.147643</td>\n    </tr>\n    <tr>\n      <th>2809</th>\n      <td>VAVA</td>\n      <td>21</td>\n      <td>Life's a struggle</td>\n      <td>31138.022222</td>\n      <td>253596.876667</td>\n      <td>0.122786</td>\n    </tr>\n    <tr>\n      <th>2810</th>\n      <td>VAVA</td>\n      <td>21</td>\n      <td>On My Way (Outro)</td>\n      <td>7261.664444</td>\n      <td>253596.876667</td>\n      <td>0.028635</td>\n    </tr>\n    <tr>\n      <th>2811</th>\n      <td>VAVA</td>\n      <td>21</td>\n      <td>Rap Star</td>\n      <td>27843.409722</td>\n      <td>253596.876667</td>\n      <td>0.109794</td>\n    </tr>\n    <tr>\n      <th>2812</th>\n      <td>VAVA</td>\n      <td>21</td>\n      <td>U Should Know My Name (Intro)</td>\n      <td>27051.623889</td>\n      <td>253596.876667</td>\n      <td>0.106672</td>\n    </tr>\n    <tr>\n      <th>2813</th>\n      <td>VAVA</td>\n      <td>21</td>\n      <td>我的新衣 (feat. 王倩倩 &amp; TY)</td>\n      <td>68332.343333</td>\n      <td>253596.876667</td>\n      <td>0.269453</td>\n    </tr>\n    <tr>\n      <th>2814</th>\n      <td>VAVA</td>\n      <td>21</td>\n      <td>網紅</td>\n      <td>930.628056</td>\n      <td>253596.876667</td>\n      <td>0.003670</td>\n    </tr>\n    <tr>\n      <th>2815</th>\n      <td>VAVA</td>\n      <td>21</td>\n      <td>讓 (feat. Evis Wy)</td>\n      <td>5756.500833</td>\n      <td>253596.876667</td>\n      <td>0.022699</td>\n    </tr>\n  </tbody>\n</table>\n</div>"
     },
     "execution_count": 16,
     "metadata": {},
     "output_type": "execute_result"
    }
   ],
   "source": [
    "album_1"
   ],
   "metadata": {
    "collapsed": false,
    "pycharm": {
     "name": "#%%\n"
    }
   }
  },
  {
   "cell_type": "code",
   "execution_count": null,
   "outputs": [],
   "source": [],
   "metadata": {
    "collapsed": false,
    "pycharm": {
     "name": "#%%\n"
    }
   }
  }
 ],
 "metadata": {
  "kernelspec": {
   "display_name": "Python 3",
   "language": "python",
   "name": "python3"
  },
  "language_info": {
   "codemirror_mode": {
    "name": "ipython",
    "version": 2
   },
   "file_extension": ".py",
   "mimetype": "text/x-python",
   "name": "python",
   "nbconvert_exporter": "python",
   "pygments_lexer": "ipython2",
   "version": "2.7.6"
  }
 },
 "nbformat": 4,
 "nbformat_minor": 0
}